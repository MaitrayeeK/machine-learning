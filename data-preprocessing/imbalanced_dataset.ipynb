{
 "cells": [
  {
   "cell_type": "code",
   "execution_count": 8,
   "metadata": {},
   "outputs": [],
   "source": [
    "import numpy as np\n",
    "import pandas as pd"
   ]
  },
  {
   "cell_type": "code",
   "execution_count": 9,
   "metadata": {},
   "outputs": [
    {
     "data": {
      "text/plain": [
       "(   Time        V1        V2        V3        V4        V5        V6        V7  \\\n",
       " 0   0.0 -1.359807 -0.072781  2.536347  1.378155 -0.338321  0.462388  0.239599   \n",
       " 1   0.0  1.191857  0.266151  0.166480  0.448154  0.060018 -0.082361 -0.078803   \n",
       " 2   1.0 -1.358354 -1.340163  1.773209  0.379780 -0.503198  1.800499  0.791461   \n",
       " 3   1.0 -0.966272 -0.185226  1.792993 -0.863291 -0.010309  1.247203  0.237609   \n",
       " 4   2.0 -1.158233  0.877737  1.548718  0.403034 -0.407193  0.095921  0.592941   \n",
       " \n",
       "          V8        V9  ...       V21       V22       V23       V24       V25  \\\n",
       " 0  0.098698  0.363787  ... -0.018307  0.277838 -0.110474  0.066928  0.128539   \n",
       " 1  0.085102 -0.255425  ... -0.225775 -0.638672  0.101288 -0.339846  0.167170   \n",
       " 2  0.247676 -1.514654  ...  0.247998  0.771679  0.909412 -0.689281 -0.327642   \n",
       " 3  0.377436 -1.387024  ... -0.108300  0.005274 -0.190321 -1.175575  0.647376   \n",
       " 4 -0.270533  0.817739  ... -0.009431  0.798278 -0.137458  0.141267 -0.206010   \n",
       " \n",
       "         V26       V27       V28  Amount  Class  \n",
       " 0 -0.189115  0.133558 -0.021053  149.62      0  \n",
       " 1  0.125895 -0.008983  0.014724    2.69      0  \n",
       " 2 -0.139097 -0.055353 -0.059752  378.66      0  \n",
       " 3 -0.221929  0.062723  0.061458  123.50      0  \n",
       " 4  0.502292  0.219422  0.215153   69.99      0  \n",
       " \n",
       " [5 rows x 31 columns],\n",
       " (284807, 31))"
      ]
     },
     "execution_count": 9,
     "metadata": {},
     "output_type": "execute_result"
    }
   ],
   "source": [
    "data = pd.read_csv('credit_data.csv')\n",
    "data.head(), data.shape"
   ]
  },
  {
   "cell_type": "code",
   "execution_count": 10,
   "metadata": {},
   "outputs": [
    {
     "name": "stdout",
     "output_type": "stream",
     "text": [
      "<class 'pandas.core.frame.DataFrame'>\n",
      "RangeIndex: 284807 entries, 0 to 284806\n",
      "Data columns (total 31 columns):\n",
      " #   Column  Non-Null Count   Dtype  \n",
      "---  ------  --------------   -----  \n",
      " 0   Time    284807 non-null  float64\n",
      " 1   V1      284807 non-null  float64\n",
      " 2   V2      284807 non-null  float64\n",
      " 3   V3      284807 non-null  float64\n",
      " 4   V4      284807 non-null  float64\n",
      " 5   V5      284807 non-null  float64\n",
      " 6   V6      284807 non-null  float64\n",
      " 7   V7      284807 non-null  float64\n",
      " 8   V8      284807 non-null  float64\n",
      " 9   V9      284807 non-null  float64\n",
      " 10  V10     284807 non-null  float64\n",
      " 11  V11     284807 non-null  float64\n",
      " 12  V12     284807 non-null  float64\n",
      " 13  V13     284807 non-null  float64\n",
      " 14  V14     284807 non-null  float64\n",
      " 15  V15     284807 non-null  float64\n",
      " 16  V16     284807 non-null  float64\n",
      " 17  V17     284807 non-null  float64\n",
      " 18  V18     284807 non-null  float64\n",
      " 19  V19     284807 non-null  float64\n",
      " 20  V20     284807 non-null  float64\n",
      " 21  V21     284807 non-null  float64\n",
      " 22  V22     284807 non-null  float64\n",
      " 23  V23     284807 non-null  float64\n",
      " 24  V24     284807 non-null  float64\n",
      " 25  V25     284807 non-null  float64\n",
      " 26  V26     284807 non-null  float64\n",
      " 27  V27     284807 non-null  float64\n",
      " 28  V28     284807 non-null  float64\n",
      " 29  Amount  284807 non-null  float64\n",
      " 30  Class   284807 non-null  int64  \n",
      "dtypes: float64(30), int64(1)\n",
      "memory usage: 67.4 MB\n"
     ]
    },
    {
     "data": {
      "text/plain": [
       "(0    284315\n",
       " 1       492\n",
       " Name: Class, dtype: int64,\n",
       " None)"
      ]
     },
     "execution_count": 10,
     "metadata": {},
     "output_type": "execute_result"
    }
   ],
   "source": [
    "data['Class'].value_counts(), data.info()"
   ]
  },
  {
   "cell_type": "code",
   "execution_count": 11,
   "metadata": {},
   "outputs": [],
   "source": [
    "# Separating data class wise\n",
    "legit = data[data['Class'] == 0]\n",
    "fraud = data[data['Class'] == 1]"
   ]
  },
  {
   "cell_type": "code",
   "execution_count": 13,
   "metadata": {},
   "outputs": [
    {
     "data": {
      "text/plain": [
       "((284315, 31), (492, 31))"
      ]
     },
     "execution_count": 13,
     "metadata": {},
     "output_type": "execute_result"
    }
   ],
   "source": [
    "legit.shape, fraud.shape"
   ]
  },
  {
   "cell_type": "code",
   "execution_count": 14,
   "metadata": {},
   "outputs": [
    {
     "data": {
      "text/plain": [
       "(492, 31)"
      ]
     },
     "execution_count": 14,
     "metadata": {},
     "output_type": "execute_result"
    }
   ],
   "source": [
    "legit_smaple = legit.sample(n=492)\n",
    "legit_smaple.shape"
   ]
  },
  {
   "cell_type": "code",
   "execution_count": 16,
   "metadata": {},
   "outputs": [
    {
     "data": {
      "text/plain": [
       "((984, 31),\n",
       "             Time        V1        V2        V3        V4        V5        V6  \\\n",
       " 228174  145388.0  2.358167 -1.495601 -1.387199 -1.720048 -0.949255 -0.254235   \n",
       " 221026  142401.0  2.144644 -0.807448 -1.296176 -0.401057 -0.807481 -1.293967   \n",
       " 166641  118217.0  2.032130 -0.798864 -1.099800 -0.500316 -0.906480 -1.016901   \n",
       " 80421    58478.0  1.401996 -1.015374  0.590583 -1.506798 -1.306444 -0.174879   \n",
       " 187166  127418.0  2.037348 -0.127309 -1.823773  0.516282  0.403287 -0.848647   \n",
       " \n",
       "               V7        V8        V9  ...       V21       V22       V23  \\\n",
       " 228174 -1.234798 -0.011336 -0.839061  ... -0.245241 -0.309762  0.217677   \n",
       " 221026 -0.360249 -0.302033 -0.320170  ... -0.147142  0.025022  0.121466   \n",
       " 166641 -0.804734 -0.181437  0.009722  ...  0.279335  0.809484  0.062817   \n",
       " 80421  -1.066010  0.026038 -2.214923  ... -0.359546 -0.687042  0.210865   \n",
       " 187166  0.417238 -0.283032  0.498141  ... -0.028571 -0.003549  0.094807   \n",
       " \n",
       "              V24       V25       V26       V27       V28  Amount  Class  \n",
       " 228174 -0.058832 -0.149290 -0.139705 -0.008549 -0.057889   10.52      0  \n",
       " 221026 -0.039580 -0.131697  0.800557 -0.077617 -0.064383   31.23      0  \n",
       " 166641 -0.100125 -0.173111 -0.091234  0.024764 -0.002391   69.00      0  \n",
       " 80421  -0.016659  0.038400 -0.471929  0.051038  0.018384   24.95      0  \n",
       " 187166  0.696650  0.185365  0.352864 -0.096239 -0.065914   29.95      0  \n",
       " \n",
       " [5 rows x 31 columns],\n",
       "             Time        V1        V2        V3        V4        V5        V6  \\\n",
       " 279863  169142.0 -1.927883  1.125653 -4.518331  1.749293 -1.566487 -2.010494   \n",
       " 280143  169347.0  1.378559  1.289381 -5.004247  1.411850  0.442581 -1.326536   \n",
       " 280149  169351.0 -0.676143  1.126366 -2.213700  0.468308 -1.120541 -0.003346   \n",
       " 281144  169966.0 -3.113832  0.585864 -5.399730  1.817092 -0.840618 -2.943548   \n",
       " 281674  170348.0  1.991976  0.158476 -2.583441  0.408670  1.151147 -0.096695   \n",
       " \n",
       "               V7        V8        V9  ...       V21       V22       V23  \\\n",
       " 279863 -0.882850  0.697211 -2.064945  ...  0.778584 -0.319189  0.639419   \n",
       " 280143 -1.413170  0.248525 -1.127396  ...  0.370612  0.028234 -0.145640   \n",
       " 280149 -2.234739  1.210158 -0.652250  ...  0.751826  0.834108  0.190944   \n",
       " 281144 -2.208002  1.058733 -1.632333  ...  0.583276 -0.269209 -0.456108   \n",
       " 281674  0.223050 -0.068384  0.577829  ... -0.164350 -0.295135 -0.072173   \n",
       " \n",
       "              V24       V25       V26       V27       V28  Amount  Class  \n",
       " 279863 -0.294885  0.537503  0.788395  0.292680  0.147968  390.00      1  \n",
       " 280143 -0.081049  0.521875  0.739467  0.389152  0.186637    0.76      1  \n",
       " 280149  0.032070 -0.739695  0.471111  0.385107  0.194361   77.89      1  \n",
       " 281144 -0.183659 -0.328168  0.606116  0.884876 -0.253700  245.00      1  \n",
       " 281674 -0.450261  0.313267 -0.289617  0.002988 -0.015309   42.53      1  \n",
       " \n",
       " [5 rows x 31 columns])"
      ]
     },
     "execution_count": 16,
     "metadata": {},
     "output_type": "execute_result"
    }
   ],
   "source": [
    "# Conacatenate 2 dataframes\n",
    "new_data = pd.concat([legit_smaple, fraud], axis=0)\n",
    "new_data.shape, new_data.head(), new_data.tail()"
   ]
  },
  {
   "cell_type": "code",
   "execution_count": 17,
   "metadata": {},
   "outputs": [
    {
     "data": {
      "text/plain": [
       "0    492\n",
       "1    492\n",
       "Name: Class, dtype: int64"
      ]
     },
     "execution_count": 17,
     "metadata": {},
     "output_type": "execute_result"
    }
   ],
   "source": [
    "new_data['Class'].value_counts()"
   ]
  }
 ],
 "metadata": {
  "kernelspec": {
   "display_name": "Python 3",
   "language": "python",
   "name": "python3"
  },
  "language_info": {
   "codemirror_mode": {
    "name": "ipython",
    "version": 3
   },
   "file_extension": ".py",
   "mimetype": "text/x-python",
   "name": "python",
   "nbconvert_exporter": "python",
   "pygments_lexer": "ipython3",
   "version": "3.10.9"
  }
 },
 "nbformat": 4,
 "nbformat_minor": 2
}
